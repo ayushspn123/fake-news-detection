{
 "cells": [
  {
   "cell_type": "markdown",
   "id": "2dc781aa",
   "metadata": {},
   "source": [
    "# Fake News Detection"
   ]
  },
  {
   "cell_type": "code",
   "execution_count": 1,
   "id": "b28f4b46",
   "metadata": {},
   "outputs": [],
   "source": [
    "import pandas as pd"
   ]
  },
  {
   "cell_type": "code",
   "execution_count": 2,
   "id": "573c7145",
   "metadata": {},
   "outputs": [],
   "source": [
    "import numpy as np"
   ]
  },
  {
   "cell_type": "code",
   "execution_count": 3,
   "id": "9f384957",
   "metadata": {},
   "outputs": [],
   "source": [
    "import itertools\n",
    "from sklearn.model_selection import train_test_split"
   ]
  },
  {
   "cell_type": "code",
   "execution_count": 4,
   "id": "630e0b70",
   "metadata": {},
   "outputs": [],
   "source": [
    "df= pd.read_csv(\"news.csv\")"
   ]
  },
  {
   "cell_type": "code",
   "execution_count": 5,
   "id": "84ebdd24",
   "metadata": {},
   "outputs": [
    {
     "data": {
      "text/plain": [
       "(6228, 4)"
      ]
     },
     "execution_count": 5,
     "metadata": {},
     "output_type": "execute_result"
    }
   ],
   "source": [
    "df.shape"
   ]
  },
  {
   "cell_type": "code",
   "execution_count": 6,
   "id": "841aab9b",
   "metadata": {},
   "outputs": [
    {
     "data": {
      "text/plain": [
       "(6228, 4)"
      ]
     },
     "execution_count": 6,
     "metadata": {},
     "output_type": "execute_result"
    }
   ],
   "source": [
    "df.shape\n"
   ]
  },
  {
   "cell_type": "code",
   "execution_count": 7,
   "id": "671b1ed6",
   "metadata": {},
   "outputs": [
    {
     "data": {
      "text/plain": [
       "<bound method NDFrame.head of      Serial                                              title  \\\n",
       "0      8476                       You Can Smell Hillary’s Fear   \n",
       "1     10294  Watch The Exact Moment Paul Ryan Committed Pol...   \n",
       "2      3608        Kerry to go to Paris in gesture of sympathy   \n",
       "3     10142  Bernie supporters on Twitter erupt in anger ag...   \n",
       "4       875   The Battle of New York: Why This Primary Matters   \n",
       "...     ...                                                ...   \n",
       "6223   4490  State Department says it can't find emails fro...   \n",
       "6224   8062  The ‘P’ in PBS Should Stand for ‘Plutocratic’ ...   \n",
       "6225   8622  Anti-Trump Protesters Are Tools of the Oligarc...   \n",
       "6226   4021  In Ethiopia, Obama seeks progress on peace, se...   \n",
       "6227   4330  Jeb Bush Is Suddenly Attacking Trump. Here's W...   \n",
       "\n",
       "                                                   text label  \n",
       "0     Daniel Greenfield, a Shillman Journalism Fello...  FAKE  \n",
       "1     Google Pinterest Digg Linkedin Reddit Stumbleu...  FAKE  \n",
       "2     U.S. Secretary of State John F. Kerry said Mon...  REAL  \n",
       "3     — Kaydee King (@KaydeeKing) November 9, 2016 T...  FAKE  \n",
       "4     It's primary day in New York and front-runners...  REAL  \n",
       "...                                                 ...   ...  \n",
       "6223  The State Department told the Republican Natio...  REAL  \n",
       "6224  The ‘P’ in PBS Should Stand for ‘Plutocratic’ ...  FAKE  \n",
       "6225   Anti-Trump Protesters Are Tools of the Oligar...  FAKE  \n",
       "6226  ADDIS ABABA, Ethiopia —President Obama convene...  REAL  \n",
       "6227  Jeb Bush Is Suddenly Attacking Trump. Here's W...  REAL  \n",
       "\n",
       "[6228 rows x 4 columns]>"
      ]
     },
     "execution_count": 7,
     "metadata": {},
     "output_type": "execute_result"
    }
   ],
   "source": [
    "df.head"
   ]
  },
  {
   "cell_type": "code",
   "execution_count": 8,
   "id": "cf07c9ff",
   "metadata": {},
   "outputs": [
    {
     "data": {
      "text/plain": [
       "Serial    0\n",
       "title     0\n",
       "text      4\n",
       "label     0\n",
       "dtype: int64"
      ]
     },
     "execution_count": 8,
     "metadata": {},
     "output_type": "execute_result"
    }
   ],
   "source": [
    "df.isnull().sum()"
   ]
  },
  {
   "cell_type": "code",
   "execution_count": 9,
   "id": "f7e85fd1",
   "metadata": {},
   "outputs": [],
   "source": [
    "labels= df.label"
   ]
  },
  {
   "cell_type": "code",
   "execution_count": 10,
   "id": "06488b19",
   "metadata": {},
   "outputs": [
    {
     "data": {
      "text/plain": [
       "0       FAKE\n",
       "1       FAKE\n",
       "2       REAL\n",
       "3       FAKE\n",
       "4       REAL\n",
       "        ... \n",
       "6223    REAL\n",
       "6224    FAKE\n",
       "6225    FAKE\n",
       "6226    REAL\n",
       "6227    REAL\n",
       "Name: label, Length: 6228, dtype: object"
      ]
     },
     "execution_count": 10,
     "metadata": {},
     "output_type": "execute_result"
    }
   ],
   "source": [
    "labels"
   ]
  },
  {
   "cell_type": "code",
   "execution_count": 11,
   "id": "0e33c843",
   "metadata": {},
   "outputs": [
    {
     "data": {
      "text/plain": [
       "0"
      ]
     },
     "execution_count": 11,
     "metadata": {},
     "output_type": "execute_result"
    }
   ],
   "source": [
    "labels.isnull().sum()"
   ]
  },
  {
   "cell_type": "code",
   "execution_count": null,
   "id": "3ff546b0",
   "metadata": {},
   "outputs": [],
   "source": []
  },
  {
   "cell_type": "code",
   "execution_count": 12,
   "id": "81937a3c",
   "metadata": {},
   "outputs": [
    {
     "data": {
      "text/html": [
       "<div>\n",
       "<style scoped>\n",
       "    .dataframe tbody tr th:only-of-type {\n",
       "        vertical-align: middle;\n",
       "    }\n",
       "\n",
       "    .dataframe tbody tr th {\n",
       "        vertical-align: top;\n",
       "    }\n",
       "\n",
       "    .dataframe thead th {\n",
       "        text-align: right;\n",
       "    }\n",
       "</style>\n",
       "<table border=\"1\" class=\"dataframe\">\n",
       "  <thead>\n",
       "    <tr style=\"text-align: right;\">\n",
       "      <th></th>\n",
       "      <th>Serial</th>\n",
       "      <th>title</th>\n",
       "      <th>text</th>\n",
       "      <th>label</th>\n",
       "    </tr>\n",
       "  </thead>\n",
       "  <tbody>\n",
       "    <tr>\n",
       "      <th>0</th>\n",
       "      <td>8476</td>\n",
       "      <td>You Can Smell Hillary’s Fear</td>\n",
       "      <td>Daniel Greenfield, a Shillman Journalism Fello...</td>\n",
       "      <td>FAKE</td>\n",
       "    </tr>\n",
       "    <tr>\n",
       "      <th>1</th>\n",
       "      <td>10294</td>\n",
       "      <td>Watch The Exact Moment Paul Ryan Committed Pol...</td>\n",
       "      <td>Google Pinterest Digg Linkedin Reddit Stumbleu...</td>\n",
       "      <td>FAKE</td>\n",
       "    </tr>\n",
       "    <tr>\n",
       "      <th>2</th>\n",
       "      <td>3608</td>\n",
       "      <td>Kerry to go to Paris in gesture of sympathy</td>\n",
       "      <td>U.S. Secretary of State John F. Kerry said Mon...</td>\n",
       "      <td>REAL</td>\n",
       "    </tr>\n",
       "    <tr>\n",
       "      <th>3</th>\n",
       "      <td>10142</td>\n",
       "      <td>Bernie supporters on Twitter erupt in anger ag...</td>\n",
       "      <td>— Kaydee King (@KaydeeKing) November 9, 2016 T...</td>\n",
       "      <td>FAKE</td>\n",
       "    </tr>\n",
       "    <tr>\n",
       "      <th>4</th>\n",
       "      <td>875</td>\n",
       "      <td>The Battle of New York: Why This Primary Matters</td>\n",
       "      <td>It's primary day in New York and front-runners...</td>\n",
       "      <td>REAL</td>\n",
       "    </tr>\n",
       "    <tr>\n",
       "      <th>...</th>\n",
       "      <td>...</td>\n",
       "      <td>...</td>\n",
       "      <td>...</td>\n",
       "      <td>...</td>\n",
       "    </tr>\n",
       "    <tr>\n",
       "      <th>6223</th>\n",
       "      <td>4490</td>\n",
       "      <td>State Department says it can't find emails fro...</td>\n",
       "      <td>The State Department told the Republican Natio...</td>\n",
       "      <td>REAL</td>\n",
       "    </tr>\n",
       "    <tr>\n",
       "      <th>6224</th>\n",
       "      <td>8062</td>\n",
       "      <td>The ‘P’ in PBS Should Stand for ‘Plutocratic’ ...</td>\n",
       "      <td>The ‘P’ in PBS Should Stand for ‘Plutocratic’ ...</td>\n",
       "      <td>FAKE</td>\n",
       "    </tr>\n",
       "    <tr>\n",
       "      <th>6225</th>\n",
       "      <td>8622</td>\n",
       "      <td>Anti-Trump Protesters Are Tools of the Oligarc...</td>\n",
       "      <td>Anti-Trump Protesters Are Tools of the Oligar...</td>\n",
       "      <td>FAKE</td>\n",
       "    </tr>\n",
       "    <tr>\n",
       "      <th>6226</th>\n",
       "      <td>4021</td>\n",
       "      <td>In Ethiopia, Obama seeks progress on peace, se...</td>\n",
       "      <td>ADDIS ABABA, Ethiopia —President Obama convene...</td>\n",
       "      <td>REAL</td>\n",
       "    </tr>\n",
       "    <tr>\n",
       "      <th>6227</th>\n",
       "      <td>4330</td>\n",
       "      <td>Jeb Bush Is Suddenly Attacking Trump. Here's W...</td>\n",
       "      <td>Jeb Bush Is Suddenly Attacking Trump. Here's W...</td>\n",
       "      <td>REAL</td>\n",
       "    </tr>\n",
       "  </tbody>\n",
       "</table>\n",
       "<p>6228 rows × 4 columns</p>\n",
       "</div>"
      ],
      "text/plain": [
       "     Serial                                              title  \\\n",
       "0      8476                       You Can Smell Hillary’s Fear   \n",
       "1     10294  Watch The Exact Moment Paul Ryan Committed Pol...   \n",
       "2      3608        Kerry to go to Paris in gesture of sympathy   \n",
       "3     10142  Bernie supporters on Twitter erupt in anger ag...   \n",
       "4       875   The Battle of New York: Why This Primary Matters   \n",
       "...     ...                                                ...   \n",
       "6223   4490  State Department says it can't find emails fro...   \n",
       "6224   8062  The ‘P’ in PBS Should Stand for ‘Plutocratic’ ...   \n",
       "6225   8622  Anti-Trump Protesters Are Tools of the Oligarc...   \n",
       "6226   4021  In Ethiopia, Obama seeks progress on peace, se...   \n",
       "6227   4330  Jeb Bush Is Suddenly Attacking Trump. Here's W...   \n",
       "\n",
       "                                                   text label  \n",
       "0     Daniel Greenfield, a Shillman Journalism Fello...  FAKE  \n",
       "1     Google Pinterest Digg Linkedin Reddit Stumbleu...  FAKE  \n",
       "2     U.S. Secretary of State John F. Kerry said Mon...  REAL  \n",
       "3     — Kaydee King (@KaydeeKing) November 9, 2016 T...  FAKE  \n",
       "4     It's primary day in New York and front-runners...  REAL  \n",
       "...                                                 ...   ...  \n",
       "6223  The State Department told the Republican Natio...  REAL  \n",
       "6224  The ‘P’ in PBS Should Stand for ‘Plutocratic’ ...  FAKE  \n",
       "6225   Anti-Trump Protesters Are Tools of the Oligar...  FAKE  \n",
       "6226  ADDIS ABABA, Ethiopia —President Obama convene...  REAL  \n",
       "6227  Jeb Bush Is Suddenly Attacking Trump. Here's W...  REAL  \n",
       "\n",
       "[6228 rows x 4 columns]"
      ]
     },
     "execution_count": 12,
     "metadata": {},
     "output_type": "execute_result"
    }
   ],
   "source": [
    "df"
   ]
  },
  {
   "cell_type": "code",
   "execution_count": 13,
   "id": "05d795bf",
   "metadata": {},
   "outputs": [],
   "source": [
    "h=df.Serial"
   ]
  },
  {
   "cell_type": "code",
   "execution_count": 14,
   "id": "860f98bf",
   "metadata": {},
   "outputs": [
    {
     "data": {
      "text/plain": [
       "0        8476\n",
       "1       10294\n",
       "2        3608\n",
       "3       10142\n",
       "4         875\n",
       "        ...  \n",
       "6223     4490\n",
       "6224     8062\n",
       "6225     8622\n",
       "6226     4021\n",
       "6227     4330\n",
       "Name: Serial, Length: 6228, dtype: object"
      ]
     },
     "execution_count": 14,
     "metadata": {},
     "output_type": "execute_result"
    }
   ],
   "source": [
    "h"
   ]
  },
  {
   "cell_type": "code",
   "execution_count": 15,
   "id": "49d370c8",
   "metadata": {},
   "outputs": [
    {
     "data": {
      "text/plain": [
       "0"
      ]
     },
     "execution_count": 15,
     "metadata": {},
     "output_type": "execute_result"
    }
   ],
   "source": [
    "h.isnull().sum()"
   ]
  },
  {
   "cell_type": "code",
   "execution_count": 16,
   "id": "68d1a0b5",
   "metadata": {},
   "outputs": [],
   "source": [
    "x_train, x_test, y_train, y_test = train_test_split(df[\"text\"], labels, test_size= 0.1, random_state= 20)"
   ]
  },
  {
   "cell_type": "code",
   "execution_count": 17,
   "id": "167c417f",
   "metadata": {},
   "outputs": [
    {
     "data": {
      "text/plain": [
       "2620    Ted Cruz is a very, very conservative guy.\\n\\n...\n",
       "2235    After he managed to win support from his warri...\n",
       "2752    New Jersey Gov. Chris Christie lashed out at S...\n",
       "583     I dare you to restrain yourself from laughing ...\n",
       "615     On Sunday Syrian state media said rebels had u...\n",
       "                              ...                        \n",
       "5910    Warning or threat? Hillary hints at second civ...\n",
       "3915    X Dear Reader! VDARE.com isn’t just a website....\n",
       "1428    We are now at the point in this political seas...\n",
       "4367    Just when it seemed she might be overwhelmed b...\n",
       "2522    It’s not that Americans won’t elect wealthy pr...\n",
       "Name: text, Length: 5605, dtype: object"
      ]
     },
     "execution_count": 17,
     "metadata": {},
     "output_type": "execute_result"
    }
   ],
   "source": [
    "x_train"
   ]
  },
  {
   "cell_type": "code",
   "execution_count": 18,
   "id": "bf5a6e14",
   "metadata": {},
   "outputs": [
    {
     "data": {
      "text/plain": [
       "4881    FAKE\n",
       "2486    FAKE\n",
       "5609    REAL\n",
       "2450    FAKE\n",
       "1279    FAKE\n",
       "        ... \n",
       "4464    FAKE\n",
       "1532    REAL\n",
       "1071    FAKE\n",
       "2365    FAKE\n",
       "554     FAKE\n",
       "Name: label, Length: 623, dtype: object"
      ]
     },
     "execution_count": 18,
     "metadata": {},
     "output_type": "execute_result"
    }
   ],
   "source": [
    "y_test"
   ]
  },
  {
   "cell_type": "code",
   "execution_count": 19,
   "id": "64d6f29c",
   "metadata": {},
   "outputs": [],
   "source": [
    "from sklearn.feature_extraction.text import TfidfVectorizer\n",
    "from sklearn.linear_model import PassiveAggressiveClassifier"
   ]
  },
  {
   "cell_type": "code",
   "execution_count": 20,
   "id": "a013a032",
   "metadata": {},
   "outputs": [],
   "source": [
    "#initialize Tfidfvectorizer\n",
    "vector = TfidfVectorizer(stop_words= 'english', max_df=0.7)"
   ]
  },
  {
   "cell_type": "code",
   "execution_count": 21,
   "id": "26d81273",
   "metadata": {},
   "outputs": [],
   "source": [
    "# fit and transform\n",
    "vc_train = vector.fit_transform(x_train.apply(lambda x: np.str_(x)))\n",
    "vc_test = vector.transform(x_test.apply(lambda x: np.str_(x)))"
   ]
  },
  {
   "cell_type": "code",
   "execution_count": 22,
   "id": "2bf9747c",
   "metadata": {},
   "outputs": [
    {
     "data": {
      "text/plain": [
       "PassiveAggressiveClassifier(max_iter=50)"
      ]
     },
     "execution_count": 22,
     "metadata": {},
     "output_type": "execute_result"
    }
   ],
   "source": [
    "# Initialise a Passive Agressive Classifier\n",
    "pac= PassiveAggressiveClassifier(max_iter=50)\n",
    "pac.fit(vc_train, y_train)"
   ]
  },
  {
   "cell_type": "code",
   "execution_count": 23,
   "id": "1f9bcf60",
   "metadata": {},
   "outputs": [],
   "source": [
    "# Prediction on the test dataset\n",
    "from sklearn.metrics import accuracy_score, confusion_matrix"
   ]
  },
  {
   "cell_type": "code",
   "execution_count": 24,
   "id": "99f70066",
   "metadata": {},
   "outputs": [],
   "source": [
    "y_prd=pac.predict(vc_test)"
   ]
  },
  {
   "cell_type": "code",
   "execution_count": 25,
   "id": "c98c169b",
   "metadata": {},
   "outputs": [],
   "source": [
    "score = accuracy_score(y_test, y_prd)"
   ]
  },
  {
   "cell_type": "code",
   "execution_count": 26,
   "id": "85ecb4b1",
   "metadata": {},
   "outputs": [
    {
     "data": {
      "text/plain": [
       "0.9534510433386838"
      ]
     },
     "execution_count": 26,
     "metadata": {},
     "output_type": "execute_result"
    }
   ],
   "source": [
    "score"
   ]
  },
  {
   "cell_type": "code",
   "execution_count": 27,
   "id": "f0ed98c9",
   "metadata": {},
   "outputs": [
    {
     "name": "stdout",
     "output_type": "stream",
     "text": [
      "Accuracy : 95.35%\n"
     ]
    }
   ],
   "source": [
    "print(f\"Accuracy : {round(score*100,2)}%\")"
   ]
  },
  {
   "cell_type": "code",
   "execution_count": 28,
   "id": "c11db75c",
   "metadata": {},
   "outputs": [
    {
     "data": {
      "text/plain": [
       "array([[283,  15],\n",
       "       [ 14, 311]], dtype=int64)"
      ]
     },
     "execution_count": 28,
     "metadata": {},
     "output_type": "execute_result"
    }
   ],
   "source": [
    "# Confusion Matrix\n",
    "confusion_matrix(y_test, y_prd, labels=[\"FAKE\", \"REAL\"])"
   ]
  },
  {
   "cell_type": "code",
   "execution_count": 29,
   "id": "af766766",
   "metadata": {},
   "outputs": [],
   "source": [
    "#Save Model\n",
    "import pickle\n",
    "filename= 'Final_model_news.pkl'\n",
    "pickle.dump(pac, open(filename, 'wb'))"
   ]
  },
  {
   "cell_type": "code",
   "execution_count": 30,
   "id": "fe9810a2",
   "metadata": {},
   "outputs": [],
   "source": [
    "import pickle\n",
    "filename2 = 'vectorizer2.pkl'\n",
    "pickle.dump(vector, open(filename2,'wb'))"
   ]
  }
 ],
 "metadata": {
  "kernelspec": {
   "display_name": "Python 3 (ipykernel)",
   "language": "python",
   "name": "python3"
  },
  "language_info": {
   "codemirror_mode": {
    "name": "ipython",
    "version": 3
   },
   "file_extension": ".py",
   "mimetype": "text/x-python",
   "name": "python",
   "nbconvert_exporter": "python",
   "pygments_lexer": "ipython3",
   "version": "3.9.7"
  }
 },
 "nbformat": 4,
 "nbformat_minor": 5
}
